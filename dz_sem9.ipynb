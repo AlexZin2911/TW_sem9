{
 "cells": [
  {
   "attachments": {},
   "cell_type": "markdown",
   "metadata": {},
   "source": [
    "## №1.\n",
    "#### Даны значения величины заработной платы заемщиков банка (zp) и значения их поведенческого кредитного скоринга (ks): \n",
    "#### zp = [35, 45, 190, 200, 40, 70, 54, 150, 120, 110], \n",
    "#### ks = [401, 574, 874, 919, 459, 739, 653, 902, 746, 832]. \n",
    "#### Используя математические операции, посчитать коэффициенты линейной регрессии, приняв за X заработную плату (то есть, zp - признак), а за y - значения скорингового балла (то есть, ks - целевая переменная). Произвести расчет как с использованием intercept, так и без."
   ]
  },
  {
   "cell_type": "code",
   "execution_count": 4,
   "metadata": {},
   "outputs": [
    {
     "name": "stdout",
     "output_type": "stream",
     "text": [
      "Коэффициент наклона с intercept:  2.62\n",
      "Коэффициент пересечения с осью y:  444.18\n",
      "Коэффициент наклона без intercept:  5.89\n"
     ]
    }
   ],
   "source": [
    "import numpy as np\n",
    "\n",
    "zp = np.array([35, 45, 190, 200, 40, 70, 54, 150, 120, 110])\n",
    "ks = np.array([401, 574, 874, 919, 459, 739, 653, 902, 746, 832])\n",
    "\n",
    "b_with_intercept = np.cov(zp, ks, ddof=0)[0, 1] / np.var(zp, ddof=0)\n",
    "a_with_intercept = np.mean(ks) - b_with_intercept * np.mean(zp)\n",
    "\n",
    "b_without_intercept = np.sum(zp * ks) / np.sum(zp ** 2)\n",
    "\n",
    "print(f\"Коэффициент наклона с intercept: {b_with_intercept: .2f}\")\n",
    "print(f\"Коэффициент пересечения с осью y: {a_with_intercept: .2f}\")\n",
    "\n",
    "print(f\"Коэффициент наклона без intercept: {b_without_intercept: .2f}\")"
   ]
  },
  {
   "attachments": {},
   "cell_type": "markdown",
   "metadata": {},
   "source": [
    "## №2\n",
    "#### Посчитать коэффициент линейной регрессии при заработной плате (zp), используя градиентный спуск (без intercept)."
   ]
  },
  {
   "cell_type": "code",
   "execution_count": 5,
   "metadata": {},
   "outputs": [
    {
     "name": "stdout",
     "output_type": "stream",
     "text": [
      "Коэффициент линейной регрессии без intercept: 5.889820420132689\n"
     ]
    }
   ],
   "source": [
    "def gradient_descent(x, y, alpha=0.0001, iterations=1000):\n",
    "    w = 0\n",
    "    n = len(x)\n",
    "\n",
    "    for i in range(iterations):\n",
    "        y_pred = w * x\n",
    "        error = y - y_pred\n",
    "        w += alpha * (1 / n) * np.sum(error * x)\n",
    "\n",
    "    return w\n",
    "\n",
    "b_without_intercept = gradient_descent(zp, ks)\n",
    "\n",
    "print(\"Коэффициент линейной регрессии без intercept:\", b_without_intercept)"
   ]
  },
  {
   "attachments": {},
   "cell_type": "markdown",
   "metadata": {},
   "source": [
    "## №3\n",
    "#### Произвести вычисления как в пункте 2, но с вычислением intercept. Учесть, что изменение коэффициентов должно производиться на каждом шаге одновременно (то есть изменение одного коэффициента не должно влиять на изменение другого во время одной итерации)."
   ]
  },
  {
   "cell_type": "code",
   "execution_count": 6,
   "metadata": {},
   "outputs": [
    {
     "name": "stdout",
     "output_type": "stream",
     "text": [
      "Коэффициенты линейной регрессии: a = 444.18, b = 2.62\n"
     ]
    }
   ],
   "source": [
    "x_mean = np.mean(zp)\n",
    "y_mean = np.mean(ks)\n",
    "b = np.sum((zp - x_mean) * (ks - y_mean)) / np.sum((zp - x_mean) ** 2)\n",
    "a = y_mean - b * x_mean\n",
    "print(\"Коэффициенты линейной регрессии: a = {:.2f}, b = {:.2f}\".format(a, b))"
   ]
  }
 ],
 "metadata": {
  "kernelspec": {
   "display_name": "Python 3",
   "language": "python",
   "name": "python3"
  },
  "language_info": {
   "codemirror_mode": {
    "name": "ipython",
    "version": 3
   },
   "file_extension": ".py",
   "mimetype": "text/x-python",
   "name": "python",
   "nbconvert_exporter": "python",
   "pygments_lexer": "ipython3",
   "version": "3.10.11"
  },
  "orig_nbformat": 4
 },
 "nbformat": 4,
 "nbformat_minor": 2
}
